{
 "cells": [
  {
   "cell_type": "markdown",
   "id": "39d44075",
   "metadata": {},
   "source": [
    "# Setup"
   ]
  },
  {
   "cell_type": "code",
   "execution_count": 105,
   "id": "9f402b0b",
   "metadata": {},
   "outputs": [],
   "source": [
    "# Import necessary packages\n",
    "import pandas as pd\n",
    "import numpy as np\n",
    "import matplotlib.pyplot as plt\n",
    "from matplotlib.ticker import FormatStrFormatter\n",
    "import seaborn as sns\n",
    "\n",
    "sns.set_style('darkgrid')\n",
    "%matplotlib inline"
   ]
  },
  {
   "cell_type": "markdown",
   "id": "40f705e8",
   "metadata": {},
   "source": [
    "# Import Cleaned Reviews Data\n",
    "\n",
    "## Reference\n",
    "\n",
    "https://pandas.pydata.org/docs/reference/api/pandas.DataFrame.reset_index.html"
   ]
  },
  {
   "cell_type": "code",
   "execution_count": 106,
   "id": "d1644cae",
   "metadata": {},
   "outputs": [
    {
     "name": "stdout",
     "output_type": "stream",
     "text": [
      "<class 'pandas.core.frame.DataFrame'>\n",
      "RangeIndex: 324 entries, 0 to 323\n",
      "Data columns (total 8 columns):\n",
      " #   Column                Non-Null Count  Dtype \n",
      "---  ------                --------------  ----- \n",
      " 0   Reviewer Name         324 non-null    object\n",
      " 1   Reviewer Title        324 non-null    object\n",
      " 2   Total Reviews Given   324 non-null    int64 \n",
      " 3   Review                324 non-null    object\n",
      " 4   Stars Given           324 non-null    int64 \n",
      " 5   Year of Review        324 non-null    int64 \n",
      " 6   Time of Review        324 non-null    object\n",
      " 7   Webscraping Datetime  324 non-null    object\n",
      "dtypes: int64(3), object(5)\n",
      "memory usage: 20.4+ KB\n",
      "None\n"
     ]
    },
    {
     "data": {
      "text/html": [
       "<div>\n",
       "<style scoped>\n",
       "    .dataframe tbody tr th:only-of-type {\n",
       "        vertical-align: middle;\n",
       "    }\n",
       "\n",
       "    .dataframe tbody tr th {\n",
       "        vertical-align: top;\n",
       "    }\n",
       "\n",
       "    .dataframe thead th {\n",
       "        text-align: right;\n",
       "    }\n",
       "</style>\n",
       "<table border=\"1\" class=\"dataframe\">\n",
       "  <thead>\n",
       "    <tr style=\"text-align: right;\">\n",
       "      <th></th>\n",
       "      <th>Reviewer Name</th>\n",
       "      <th>Reviewer Title</th>\n",
       "      <th>Total Reviews Given</th>\n",
       "      <th>Review</th>\n",
       "      <th>Stars Given</th>\n",
       "      <th>Year of Review</th>\n",
       "      <th>Time of Review</th>\n",
       "      <th>Webscraping Datetime</th>\n",
       "    </tr>\n",
       "  </thead>\n",
       "  <tbody>\n",
       "    <tr>\n",
       "      <th>0</th>\n",
       "      <td>Alex Reyes</td>\n",
       "      <td>No Title</td>\n",
       "      <td>2</td>\n",
       "      <td>No Review</td>\n",
       "      <td>3</td>\n",
       "      <td>2022</td>\n",
       "      <td>a month ago</td>\n",
       "      <td>2023-01-29 20:55:10</td>\n",
       "    </tr>\n",
       "  </tbody>\n",
       "</table>\n",
       "</div>"
      ],
      "text/plain": [
       "  Reviewer Name Reviewer Title  Total Reviews Given     Review  Stars Given  \\\n",
       "0    Alex Reyes       No Title                    2  No Review            3   \n",
       "\n",
       "   Year of Review Time of Review Webscraping Datetime  \n",
       "0            2022    a month ago  2023-01-29 20:55:10  "
      ]
     },
     "execution_count": 106,
     "metadata": {},
     "output_type": "execute_result"
    }
   ],
   "source": [
    "# Import the reviews data and filter it to include all rows of data \n",
    "# except for the current year (i.e., 2023), and then take a peek of the data\n",
    "df = pd.read_csv('data/cleanedData_Reviews.csv');\n",
    "df = df[df['Year of Review'] != 2023];\n",
    "df = df.reset_index(drop=True);\n",
    "print(df.info());\n",
    "df.head(1)"
   ]
  },
  {
   "cell_type": "markdown",
   "id": "4436ee77",
   "metadata": {},
   "source": [
    "# Exploratory Data Analysis\n",
    "\n",
    "## Reference\n",
    "\n",
    "https://stackoverflow.com/questions/58476654/how-to-remove-or-hide-x-axis-labels-from-a-seaborn-matplotlib-plot\n",
    "\n",
    "https://www.w3schools.com/python/pandas/ref_df_set_index.asp\n",
    "\n",
    "https://matplotlib.org/stable/gallery/pie_and_polar_charts/pie_features.html"
   ]
  },
  {
   "cell_type": "markdown",
   "id": "50ce2c21",
   "metadata": {},
   "source": [
    "**Total Number of Reviews**"
   ]
  },
  {
   "cell_type": "code",
   "execution_count": 107,
   "id": "9d5e5c81",
   "metadata": {},
   "outputs": [
    {
     "data": {
      "text/plain": [
       "324"
      ]
     },
     "execution_count": 107,
     "metadata": {},
     "output_type": "execute_result"
    }
   ],
   "source": [
    "len(df)"
   ]
  },
  {
   "cell_type": "markdown",
   "id": "666231f8",
   "metadata": {},
   "source": [
    "**Distribution of Reviews by Stars Given**"
   ]
  },
  {
   "cell_type": "code",
   "execution_count": 108,
   "id": "01325ae9",
   "metadata": {},
   "outputs": [
    {
     "data": {
      "text/plain": [
       "Stars Given\n",
       "1     58\n",
       "2     13\n",
       "3     20\n",
       "4     53\n",
       "5    180\n",
       "Name: Total Reviews Given, dtype: int64"
      ]
     },
     "execution_count": 108,
     "metadata": {},
     "output_type": "execute_result"
    }
   ],
   "source": [
    "df.groupby(by='Stars Given')['Total Reviews Given'].count()"
   ]
  },
  {
   "cell_type": "code",
   "execution_count": 109,
   "id": "de836ee7",
   "metadata": {},
   "outputs": [
    {
     "data": {
      "text/plain": [
       "<AxesSubplot:title={'center':'Distribution of Reviews by Stars Given'}, xlabel='Stars Given', ylabel='Count'>"
      ]
     },
     "execution_count": 109,
     "metadata": {},
     "output_type": "execute_result"
    },
    {
     "data": {
      "image/png": "[encoded data removed]",
      "text/plain": [
       "<Figure size 800x400 with 1 Axes>"
      ]
     },
     "metadata": {},
     "output_type": "display_data"
    }
   ],
   "source": [
    "def chart_totalReviews_by_starsGiven(df_agg, title, ylabel):\n",
    "    fig, ax = plt.subplots(figsize=(8,4));\n",
    "    ax = sns.barplot(x=df_agg.index, y=df_agg.values);\n",
    "    ax.set(ylabel=ylabel, title=title);\n",
    "    return ax;\n",
    "\n",
    "chart_totalReviews_by_starsGiven(\n",
    "    df_agg=df.groupby(by='Stars Given')['Total Reviews Given'].count(),\n",
    "    title='Distribution of Reviews by Stars Given',\n",
    "    ylabel='Count'\n",
    ")"
   ]
  },
  {
   "cell_type": "markdown",
   "id": "05bbc093",
   "metadata": {},
   "source": [
    "**Reviews by Stars Given over the Years**"
   ]
  },
  {
   "cell_type": "code",
   "execution_count": 110,
   "id": "0d961356",
   "metadata": {},
   "outputs": [
    {
     "data": {
      "text/plain": [
       "Stars Given  Year of Review\n",
       "1            2019              11\n",
       "             2020              12\n",
       "             2021               6\n",
       "             2022              29\n",
       "2            2019               3\n",
       "             2020               3\n",
       "             2021               3\n",
       "             2022               4\n",
       "3            2019               2\n",
       "             2020              10\n",
       "             2022               8\n",
       "4            2019              23\n",
       "             2020              19\n",
       "             2021               4\n",
       "             2022               7\n",
       "5            2019              47\n",
       "             2020              80\n",
       "             2021              17\n",
       "             2022              36\n",
       "Name: Total Reviews Given, dtype: int64"
      ]
     },
     "execution_count": 110,
     "metadata": {},
     "output_type": "execute_result"
    }
   ],
   "source": [
    "df.groupby(by=['Stars Given','Year of Review'])['Total Reviews Given'].count()"
   ]
  },
  {
   "cell_type": "code",
   "execution_count": 111,
   "id": "be0f83c4",
   "metadata": {},
   "outputs": [
    {
     "name": "stderr",
     "output_type": "stream",
     "text": [
      "/var/folders/6l/mm7mjc7502v12t9w6jsrkdcr0000gn/T/ipykernel_2647/998992258.py:8: UserWarning: FixedFormatter should only be used together with FixedLocator\n",
      "  ax.set(ylabel=ylabel, title=title, xticklabels=xticklabels);\n"
     ]
    },
    {
     "data": {
      "text/plain": [
       "<AxesSubplot:title={'center':'Reviews by Stars Given over the years'}, xlabel='Year of Review', ylabel='Count'>"
      ]
     },
     "execution_count": 111,
     "metadata": {},
     "output_type": "execute_result"
    },
    {
     "data": {
      "image/png": "[encoded data removed]",
      "text/plain": [
       "<Figure size 800x400 with 1 Axes>"
      ]
     },
     "metadata": {},
     "output_type": "display_data"
    }
   ],
   "source": [
    "def chart_totalReviews_starsGiven_overTheYears(df_agg, title, ylabel, xticklabels):\n",
    "    fig, ax = plt.subplots(figsize=(8,4));\n",
    "    ax = sns.lineplot(data=df_agg, \n",
    "                        x=df_agg.index.names[1], \n",
    "                        y=df_agg.values, \n",
    "                        hue=df_agg.index.names[0]\n",
    "                       );\n",
    "    ax.set(ylabel=ylabel, title=title, xticklabels=xticklabels);\n",
    "    return ax;\n",
    "\n",
    "\n",
    "chart_totalReviews_starsGiven_overTheYears(\n",
    "    df_agg=df.groupby(by=['Stars Given','Year of Review'])['Total Reviews Given'].count(),\n",
    "    title='Reviews by Stars Given over the years',\n",
    "    ylabel='Count',\n",
    "    xticklabels=['','2019','','2020','','2021','','2022']\n",
    ")"
   ]
  },
  {
   "cell_type": "markdown",
   "id": "a4b8b1b5",
   "metadata": {},
   "source": [
    "**Number of Reviews over the years**"
   ]
  },
  {
   "cell_type": "code",
   "execution_count": 112,
   "id": "bab84246",
   "metadata": {},
   "outputs": [
    {
     "data": {
      "text/plain": [
       "Year of Review\n",
       "2019     86\n",
       "2020    124\n",
       "2021     30\n",
       "2022     84\n",
       "Name: Total Reviews Given, dtype: int64"
      ]
     },
     "execution_count": 112,
     "metadata": {},
     "output_type": "execute_result"
    }
   ],
   "source": [
    "df.groupby(by='Year of Review')['Total Reviews Given'].count()"
   ]
  },
  {
   "cell_type": "code",
   "execution_count": 113,
   "id": "52dca7a2",
   "metadata": {},
   "outputs": [
    {
     "data": {
      "text/plain": [
       "<AxesSubplot:title={'center':'Number of Reviews over the years'}, xlabel='Year of Review', ylabel='Count'>"
      ]
     },
     "execution_count": 113,
     "metadata": {},
     "output_type": "execute_result"
    },
    {
     "data": {
      "image/png": "[encoded data removed]",
      "text/plain": [
       "<Figure size 800x400 with 1 Axes>"
      ]
     },
     "metadata": {},
     "output_type": "display_data"
    }
   ],
   "source": [
    "def chart_totalReviews_overTheYears(df_agg, title, ylabel):\n",
    "    fig, ax = plt.subplots(figsize=(8,4));\n",
    "    ax = sns.barplot(x=df_agg.index, y=df_agg.values);\n",
    "    ax.set(ylabel=ylabel, title=title);\n",
    "    return ax;\n",
    "\n",
    "chart_totalReviews_overTheYears(\n",
    "    df_agg=df.groupby(by='Year of Review')['Total Reviews Given'].count(), \n",
    "    title='Number of Reviews over the years', \n",
    "    ylabel='Count'\n",
    ")"
   ]
  },
  {
   "cell_type": "markdown",
   "id": "121dd13e",
   "metadata": {},
   "source": [
    "**Proportion of Reviewers with _Local Guide_ status**"
   ]
  },
  {
   "cell_type": "code",
   "execution_count": 114,
   "id": "f1b435f4",
   "metadata": {},
   "outputs": [
    {
     "data": {
      "text/plain": [
       "array(['No Title', 'Local Guide'], dtype=object)"
      ]
     },
     "execution_count": 114,
     "metadata": {},
     "output_type": "execute_result"
    }
   ],
   "source": [
    "df['Reviewer Title'].unique()"
   ]
  },
  {
   "cell_type": "code",
   "execution_count": 115,
   "id": "445fecc6",
   "metadata": {},
   "outputs": [
    {
     "data": {
      "text/html": [
       "<div>\n",
       "<style scoped>\n",
       "    .dataframe tbody tr th:only-of-type {\n",
       "        vertical-align: middle;\n",
       "    }\n",
       "\n",
       "    .dataframe tbody tr th {\n",
       "        vertical-align: top;\n",
       "    }\n",
       "\n",
       "    .dataframe thead th {\n",
       "        text-align: right;\n",
       "    }\n",
       "</style>\n",
       "<table border=\"1\" class=\"dataframe\">\n",
       "  <thead>\n",
       "    <tr style=\"text-align: right;\">\n",
       "      <th></th>\n",
       "      <th>Is a Local Guide</th>\n",
       "      <th>Count</th>\n",
       "    </tr>\n",
       "  </thead>\n",
       "  <tbody>\n",
       "    <tr>\n",
       "      <th>0</th>\n",
       "      <td>No</td>\n",
       "      <td>122</td>\n",
       "    </tr>\n",
       "    <tr>\n",
       "      <th>1</th>\n",
       "      <td>Yes</td>\n",
       "      <td>202</td>\n",
       "    </tr>\n",
       "  </tbody>\n",
       "</table>\n",
       "</div>"
      ],
      "text/plain": [
       "  Is a Local Guide  Count\n",
       "0               No    122\n",
       "1              Yes    202"
      ]
     },
     "execution_count": 115,
     "metadata": {},
     "output_type": "execute_result"
    }
   ],
   "source": [
    "def get_reviewerProportionByLocalGuideStatus(df, reviewer_title):\n",
    "    title_count = 0;\n",
    "    noTitle_count = 0;\n",
    "    data = [];\n",
    "    for i in df.index:\n",
    "        if df.loc[i, 'Reviewer Title'] == reviewer_title:\n",
    "            title_count += 1;\n",
    "        else:\n",
    "            noTitle_count += 1;\n",
    "    data.append(['No',noTitle_count]);\n",
    "    data.append(['Yes',title_count]);\n",
    "    df_agg = pd.DataFrame(data, columns=[f'Is a {reviewer_title}','Count']);\n",
    "    return df_agg;\n",
    "\n",
    "get_reviewerProportionByLocalGuideStatus(\n",
    "    df=df, \n",
    "    reviewer_title='Local Guide'\n",
    ")"
   ]
  },
  {
   "cell_type": "code",
   "execution_count": 116,
   "id": "068c46d1",
   "metadata": {},
   "outputs": [
    {
     "data": {
      "text/plain": [
       "<AxesSubplot:title={'center':'Proportion of Reviewers with \"Local Guide\" Status'}, xlabel='Is a Local Guide', ylabel='Count'>"
      ]
     },
     "execution_count": 116,
     "metadata": {},
     "output_type": "execute_result"
    },
    {
     "data": {
      "image/png": "[encoded data removed]",
      "text/plain": [
       "<Figure size 800x400 with 1 Axes>"
      ]
     },
     "metadata": {},
     "output_type": "display_data"
    }
   ],
   "source": [
    "def chart_reviewerProportionByLocalGuideStatus(df, reviewer_title, title):\n",
    "    df_agg = get_reviewerProportionByLocalGuideStatus(df, 'Local Guide');\n",
    "    fig, ax = plt.subplots(figsize=(8,4));\n",
    "    ax = sns.barplot(data=df_agg, x='Is a Local Guide', y='Count');\n",
    "    ax.set(title=title);\n",
    "    return ax;\n",
    "\n",
    "chart_reviewerProportionByLocalGuideStatus(\n",
    "    df=df, \n",
    "    reviewer_title='Local Guide', \n",
    "    title='Proportion of Reviewers with \"Local Guide\" Status'\n",
    ")"
   ]
  },
  {
   "cell_type": "markdown",
   "id": "fd04469e",
   "metadata": {},
   "source": [
    "**Stars Given for Reviewers with _Local Guide_ vs. _No Title_ status**"
   ]
  },
  {
   "cell_type": "code",
   "execution_count": 117,
   "id": "4dd7cc54",
   "metadata": {},
   "outputs": [
    {
     "data": {
      "text/plain": [
       "Reviewer Title  Stars Given\n",
       "Local Guide     1               23\n",
       "                2                5\n",
       "                3               13\n",
       "                4               40\n",
       "                5              121\n",
       "No Title        1               35\n",
       "                2                8\n",
       "                3                7\n",
       "                4               13\n",
       "                5               59\n",
       "Name: Total Reviews Given, dtype: int64"
      ]
     },
     "execution_count": 117,
     "metadata": {},
     "output_type": "execute_result"
    }
   ],
   "source": [
    "df.groupby(by=['Reviewer Title','Stars Given'])['Total Reviews Given'].count()"
   ]
  },
  {
   "cell_type": "code",
   "execution_count": 118,
   "id": "2fa426e5",
   "metadata": {},
   "outputs": [
    {
     "data": {
      "text/plain": [
       "<AxesSubplot:title={'center':'Stars Given by Reviewer Title'}, ylabel='Stars Given'>"
      ]
     },
     "execution_count": 118,
     "metadata": {},
     "output_type": "execute_result"
    },
    {
     "data": {
      "image/png": "[encoded data removed]",
      "text/plain": [
       "<Figure size 640x480 with 1 Axes>"
      ]
     },
     "metadata": {},
     "output_type": "display_data"
    }
   ],
   "source": [
    "def chart_starsGiven_by_reviewerTitle(df_agg, title):\n",
    "    chart = df_agg.unstack().plot(kind='barh');\n",
    "    chart.set_title(title);\n",
    "    return chart;\n",
    "\n",
    "chart_starsGiven_by_reviewerTitle(\n",
    "    df_agg=df.groupby(by=['Stars Given','Reviewer Title',]).size(),\n",
    "    title=\"Stars Given by Reviewer Title\"\n",
    ")"
   ]
  },
  {
   "cell_type": "markdown",
   "id": "5f757f5e",
   "metadata": {},
   "source": [
    "**Proportion of Reviews Written to No Review**"
   ]
  },
  {
   "cell_type": "code",
   "execution_count": 119,
   "id": "2bf1c854",
   "metadata": {},
   "outputs": [
    {
     "data": {
      "text/html": [
       "<div>\n",
       "<style scoped>\n",
       "    .dataframe tbody tr th:only-of-type {\n",
       "        vertical-align: middle;\n",
       "    }\n",
       "\n",
       "    .dataframe tbody tr th {\n",
       "        vertical-align: top;\n",
       "    }\n",
       "\n",
       "    .dataframe thead th {\n",
       "        text-align: right;\n",
       "    }\n",
       "</style>\n",
       "<table border=\"1\" class=\"dataframe\">\n",
       "  <thead>\n",
       "    <tr style=\"text-align: right;\">\n",
       "      <th></th>\n",
       "      <th>Review Given</th>\n",
       "      <th>Count</th>\n",
       "    </tr>\n",
       "  </thead>\n",
       "  <tbody>\n",
       "    <tr>\n",
       "      <th>0</th>\n",
       "      <td>No Review Given</td>\n",
       "      <td>101</td>\n",
       "    </tr>\n",
       "    <tr>\n",
       "      <th>1</th>\n",
       "      <td>Review Given</td>\n",
       "      <td>223</td>\n",
       "    </tr>\n",
       "  </tbody>\n",
       "</table>\n",
       "</div>"
      ],
      "text/plain": [
       "      Review Given  Count\n",
       "0  No Review Given    101\n",
       "1     Review Given    223"
      ]
     },
     "execution_count": 119,
     "metadata": {},
     "output_type": "execute_result"
    }
   ],
   "source": [
    "def get_countOfReviewGiven(df):\n",
    "    data = [];\n",
    "    noReview_count = 0;\n",
    "    review_count = 0;\n",
    "    for i in df.index:\n",
    "        if df.loc[i, 'Review'] == \"No Review\":\n",
    "            noReview_count += 1;\n",
    "        else:\n",
    "            review_count += 1;\n",
    "    data.append(['No Review Given', noReview_count]);\n",
    "    data.append(['Review Given', review_count]);\n",
    "    df_agg = pd.DataFrame(data, columns=['Review Given','Count']);\n",
    "    #df_agg = df_agg.set_index(\"Review Given\", drop=True);\n",
    "    return df_agg;\n",
    "\n",
    "get_countOfReviewGiven(df)"
   ]
  },
  {
   "cell_type": "code",
   "execution_count": 120,
   "id": "a75578d6",
   "metadata": {},
   "outputs": [
    {
     "data": {
      "text/plain": [
       "([<matplotlib.patches.Wedge at 0x7fca66b25790>,\n",
       "  <matplotlib.patches.Wedge at 0x7fca66b25eb0>],\n",
       " [Text(0.613342571819514, 0.9131324600482805, 'No Review Given'),\n",
       "  Text(-0.6133426573131423, -0.9131324026230004, 'Review Given')],\n",
       " [Text(0.3345504937197349, 0.4980722509354257, '31%'),\n",
       "  Text(-0.33455054035262305, -0.49807221961254566, '69%')])"
      ]
     },
     "execution_count": 120,
     "metadata": {},
     "output_type": "execute_result"
    },
    {
     "data": {
      "image/png": "[encoded data removed]",
      "text/plain": [
       "<Figure size 800x400 with 1 Axes>"
      ]
     },
     "metadata": {},
     "output_type": "display_data"
    }
   ],
   "source": [
    "def chart_proportionOfWrittenReviews(df_agg, title):\n",
    "    fig, ax = plt.subplots(figsize=(8,4));\n",
    "    ax = plt.pie(df_agg['Count'], labels=df_agg['Review Given'], autopct='%.0f%%');\n",
    "    return ax;\n",
    "\n",
    "chart_proportionOfWrittenReviews(\n",
    "    df_agg=get_countOfReviewGiven(df),\n",
    "    title=\"Proportion of Reviewers that wrote reviews\"\n",
    ")"
   ]
  },
  {
   "cell_type": "markdown",
   "id": "21ecafbc",
   "metadata": {},
   "source": [
    "**Reviewers with the most reviews given**"
   ]
  },
  {
   "cell_type": "markdown",
   "id": "cafabf01",
   "metadata": {},
   "source": [
    "**_Overall_**"
   ]
  },
  {
   "cell_type": "code",
   "execution_count": 139,
   "id": "78538494",
   "metadata": {},
   "outputs": [
    {
     "data": {
      "text/html": [
       "<div>\n",
       "<style scoped>\n",
       "    .dataframe tbody tr th:only-of-type {\n",
       "        vertical-align: middle;\n",
       "    }\n",
       "\n",
       "    .dataframe tbody tr th {\n",
       "        vertical-align: top;\n",
       "    }\n",
       "\n",
       "    .dataframe thead th {\n",
       "        text-align: right;\n",
       "    }\n",
       "</style>\n",
       "<table border=\"1\" class=\"dataframe\">\n",
       "  <thead>\n",
       "    <tr style=\"text-align: right;\">\n",
       "      <th></th>\n",
       "      <th>Reviewer Name</th>\n",
       "      <th>Reviewer Title</th>\n",
       "      <th>Total Reviews Given</th>\n",
       "      <th>Review</th>\n",
       "      <th>Stars Given</th>\n",
       "      <th>Year of Review</th>\n",
       "    </tr>\n",
       "  </thead>\n",
       "  <tbody>\n",
       "    <tr>\n",
       "      <th>293</th>\n",
       "      <td>Alex Passini</td>\n",
       "      <td>Local Guide</td>\n",
       "      <td>2441</td>\n",
       "      <td>Very friendly staff and a great selection of c...</td>\n",
       "      <td>5</td>\n",
       "      <td>2019</td>\n",
       "    </tr>\n",
       "    <tr>\n",
       "      <th>311</th>\n",
       "      <td>Armando yaya</td>\n",
       "      <td>Local Guide</td>\n",
       "      <td>1090</td>\n",
       "      <td>love the coffee</td>\n",
       "      <td>5</td>\n",
       "      <td>2019</td>\n",
       "    </tr>\n",
       "    <tr>\n",
       "      <th>313</th>\n",
       "      <td>Ross Ferguson</td>\n",
       "      <td>Local Guide</td>\n",
       "      <td>873</td>\n",
       "      <td>It makes me feel like a princess.</td>\n",
       "      <td>4</td>\n",
       "      <td>2019</td>\n",
       "    </tr>\n",
       "    <tr>\n",
       "      <th>45</th>\n",
       "      <td>3 1 5 7 3</td>\n",
       "      <td>Local Guide</td>\n",
       "      <td>762</td>\n",
       "      <td>First time boxing Day purchase. No lineup. Had...</td>\n",
       "      <td>3</td>\n",
       "      <td>2022</td>\n",
       "    </tr>\n",
       "    <tr>\n",
       "      <th>187</th>\n",
       "      <td>john ozevin</td>\n",
       "      <td>Local Guide</td>\n",
       "      <td>570</td>\n",
       "      <td>Nuce coffe</td>\n",
       "      <td>5</td>\n",
       "      <td>2020</td>\n",
       "    </tr>\n",
       "    <tr>\n",
       "      <th>227</th>\n",
       "      <td>Oscar Aguilar</td>\n",
       "      <td>Local Guide</td>\n",
       "      <td>538</td>\n",
       "      <td>They didn't give us to try a cup of coffee.</td>\n",
       "      <td>3</td>\n",
       "      <td>2020</td>\n",
       "    </tr>\n",
       "    <tr>\n",
       "      <th>213</th>\n",
       "      <td>harold strempler</td>\n",
       "      <td>No Title</td>\n",
       "      <td>516</td>\n",
       "      <td>Have never darkened the door of this business....</td>\n",
       "      <td>1</td>\n",
       "      <td>2020</td>\n",
       "    </tr>\n",
       "    <tr>\n",
       "      <th>244</th>\n",
       "      <td>Ankit Mitra</td>\n",
       "      <td>Local Guide</td>\n",
       "      <td>476</td>\n",
       "      <td>A very well managed store to take care of all ...</td>\n",
       "      <td>4</td>\n",
       "      <td>2019</td>\n",
       "    </tr>\n",
       "    <tr>\n",
       "      <th>172</th>\n",
       "      <td>K. Dub</td>\n",
       "      <td>No Title</td>\n",
       "      <td>446</td>\n",
       "      <td>Good idea on the stores just wish that it was ...</td>\n",
       "      <td>4</td>\n",
       "      <td>2020</td>\n",
       "    </tr>\n",
       "    <tr>\n",
       "      <th>314</th>\n",
       "      <td>Greg Domville</td>\n",
       "      <td>Local Guide</td>\n",
       "      <td>402</td>\n",
       "      <td>Check it out. Period. I'm a coffee snob and th...</td>\n",
       "      <td>5</td>\n",
       "      <td>2019</td>\n",
       "    </tr>\n",
       "  </tbody>\n",
       "</table>\n",
       "</div>"
      ],
      "text/plain": [
       "        Reviewer Name Reviewer Title  Total Reviews Given  \\\n",
       "293      Alex Passini    Local Guide                 2441   \n",
       "311      Armando yaya    Local Guide                 1090   \n",
       "313     Ross Ferguson    Local Guide                  873   \n",
       "45          3 1 5 7 3    Local Guide                  762   \n",
       "187       john ozevin    Local Guide                  570   \n",
       "227     Oscar Aguilar    Local Guide                  538   \n",
       "213  harold strempler       No Title                  516   \n",
       "244       Ankit Mitra    Local Guide                  476   \n",
       "172            K. Dub       No Title                  446   \n",
       "314     Greg Domville    Local Guide                  402   \n",
       "\n",
       "                                                Review  Stars Given  \\\n",
       "293  Very friendly staff and a great selection of c...            5   \n",
       "311                                    love the coffee            5   \n",
       "313                  It makes me feel like a princess.            4   \n",
       "45   First time boxing Day purchase. No lineup. Had...            3   \n",
       "187                                         Nuce coffe            5   \n",
       "227        They didn't give us to try a cup of coffee.            3   \n",
       "213  Have never darkened the door of this business....            1   \n",
       "244  A very well managed store to take care of all ...            4   \n",
       "172  Good idea on the stores just wish that it was ...            4   \n",
       "314  Check it out. Period. I'm a coffee snob and th...            5   \n",
       "\n",
       "     Year of Review  \n",
       "293            2019  \n",
       "311            2019  \n",
       "313            2019  \n",
       "45             2022  \n",
       "187            2020  \n",
       "227            2020  \n",
       "213            2020  \n",
       "244            2019  \n",
       "172            2020  \n",
       "314            2019  "
      ]
     },
     "execution_count": 139,
     "metadata": {},
     "output_type": "execute_result"
    }
   ],
   "source": [
    "def get_topReviewers_with_most_least_reviewsGiven(df, ascending, numReviewers):\n",
    "    df_filter = df.sort_values(by='Total Reviews Given', ascending=ascending).head(numReviewers);\n",
    "    df_filter = df_filter[df_filter.columns[:-2]];\n",
    "    return df_filter;\n",
    "\n",
    "get_topReviewers_with_most_least_reviewsGiven(\n",
    "    df=df,\n",
    "    ascending=False, \n",
    "    numReviewers=10\n",
    ")\n"
   ]
  },
  {
   "cell_type": "markdown",
   "id": "47d6bc91",
   "metadata": {},
   "source": [
    "**_Reviewers with No Title_**"
   ]
  },
  {
   "cell_type": "code",
   "execution_count": 141,
   "id": "af0ac5cf",
   "metadata": {},
   "outputs": [
    {
     "data": {
      "text/html": [
       "<div>\n",
       "<style scoped>\n",
       "    .dataframe tbody tr th:only-of-type {\n",
       "        vertical-align: middle;\n",
       "    }\n",
       "\n",
       "    .dataframe tbody tr th {\n",
       "        vertical-align: top;\n",
       "    }\n",
       "\n",
       "    .dataframe thead th {\n",
       "        text-align: right;\n",
       "    }\n",
       "</style>\n",
       "<table border=\"1\" class=\"dataframe\">\n",
       "  <thead>\n",
       "    <tr style=\"text-align: right;\">\n",
       "      <th></th>\n",
       "      <th>Reviewer Name</th>\n",
       "      <th>Reviewer Title</th>\n",
       "      <th>Total Reviews Given</th>\n",
       "      <th>Review</th>\n",
       "      <th>Stars Given</th>\n",
       "      <th>Year of Review</th>\n",
       "    </tr>\n",
       "  </thead>\n",
       "  <tbody>\n",
       "    <tr>\n",
       "      <th>213</th>\n",
       "      <td>harold strempler</td>\n",
       "      <td>No Title</td>\n",
       "      <td>516</td>\n",
       "      <td>Have never darkened the door of this business....</td>\n",
       "      <td>1</td>\n",
       "      <td>2020</td>\n",
       "    </tr>\n",
       "    <tr>\n",
       "      <th>172</th>\n",
       "      <td>K. Dub</td>\n",
       "      <td>No Title</td>\n",
       "      <td>446</td>\n",
       "      <td>Good idea on the stores just wish that it was ...</td>\n",
       "      <td>4</td>\n",
       "      <td>2020</td>\n",
       "    </tr>\n",
       "    <tr>\n",
       "      <th>142</th>\n",
       "      <td>유길원</td>\n",
       "      <td>No Title</td>\n",
       "      <td>178</td>\n",
       "      <td>No Review</td>\n",
       "      <td>3</td>\n",
       "      <td>2020</td>\n",
       "    </tr>\n",
       "    <tr>\n",
       "      <th>31</th>\n",
       "      <td>Albert Leung</td>\n",
       "      <td>No Title</td>\n",
       "      <td>168</td>\n",
       "      <td>Excellent service, explain details of trouble ...</td>\n",
       "      <td>4</td>\n",
       "      <td>2022</td>\n",
       "    </tr>\n",
       "    <tr>\n",
       "      <th>108</th>\n",
       "      <td>T D</td>\n",
       "      <td>No Title</td>\n",
       "      <td>114</td>\n",
       "      <td>Was promised a donated Nespresso machine for h...</td>\n",
       "      <td>1</td>\n",
       "      <td>2021</td>\n",
       "    </tr>\n",
       "  </tbody>\n",
       "</table>\n",
       "</div>"
      ],
      "text/plain": [
       "        Reviewer Name Reviewer Title  Total Reviews Given  \\\n",
       "213  harold strempler       No Title                  516   \n",
       "172            K. Dub       No Title                  446   \n",
       "142               유길원       No Title                  178   \n",
       "31       Albert Leung       No Title                  168   \n",
       "108               T D       No Title                  114   \n",
       "\n",
       "                                                Review  Stars Given  \\\n",
       "213  Have never darkened the door of this business....            1   \n",
       "172  Good idea on the stores just wish that it was ...            4   \n",
       "142                                          No Review            3   \n",
       "31   Excellent service, explain details of trouble ...            4   \n",
       "108  Was promised a donated Nespresso machine for h...            1   \n",
       "\n",
       "     Year of Review  \n",
       "213            2020  \n",
       "172            2020  \n",
       "142            2020  \n",
       "31             2022  \n",
       "108            2021  "
      ]
     },
     "execution_count": 141,
     "metadata": {},
     "output_type": "execute_result"
    }
   ],
   "source": [
    "get_topReviewers_with_most_least_reviewsGiven(\n",
    "    df=df[df['Reviewer Title'] == \"No Title\"],\n",
    "    ascending=False, \n",
    "    numReviewers=5\n",
    ")"
   ]
  },
  {
   "cell_type": "markdown",
   "id": "f13418c2",
   "metadata": {},
   "source": [
    "**_Reviewers with Local Guide status_**"
   ]
  },
  {
   "cell_type": "code",
   "execution_count": 142,
   "id": "e5b5b3d2",
   "metadata": {},
   "outputs": [
    {
     "data": {
      "text/html": [
       "<div>\n",
       "<style scoped>\n",
       "    .dataframe tbody tr th:only-of-type {\n",
       "        vertical-align: middle;\n",
       "    }\n",
       "\n",
       "    .dataframe tbody tr th {\n",
       "        vertical-align: top;\n",
       "    }\n",
       "\n",
       "    .dataframe thead th {\n",
       "        text-align: right;\n",
       "    }\n",
       "</style>\n",
       "<table border=\"1\" class=\"dataframe\">\n",
       "  <thead>\n",
       "    <tr style=\"text-align: right;\">\n",
       "      <th></th>\n",
       "      <th>Reviewer Name</th>\n",
       "      <th>Reviewer Title</th>\n",
       "      <th>Total Reviews Given</th>\n",
       "      <th>Review</th>\n",
       "      <th>Stars Given</th>\n",
       "      <th>Year of Review</th>\n",
       "    </tr>\n",
       "  </thead>\n",
       "  <tbody>\n",
       "    <tr>\n",
       "      <th>293</th>\n",
       "      <td>Alex Passini</td>\n",
       "      <td>Local Guide</td>\n",
       "      <td>2441</td>\n",
       "      <td>Very friendly staff and a great selection of c...</td>\n",
       "      <td>5</td>\n",
       "      <td>2019</td>\n",
       "    </tr>\n",
       "    <tr>\n",
       "      <th>311</th>\n",
       "      <td>Armando yaya</td>\n",
       "      <td>Local Guide</td>\n",
       "      <td>1090</td>\n",
       "      <td>love the coffee</td>\n",
       "      <td>5</td>\n",
       "      <td>2019</td>\n",
       "    </tr>\n",
       "    <tr>\n",
       "      <th>313</th>\n",
       "      <td>Ross Ferguson</td>\n",
       "      <td>Local Guide</td>\n",
       "      <td>873</td>\n",
       "      <td>It makes me feel like a princess.</td>\n",
       "      <td>4</td>\n",
       "      <td>2019</td>\n",
       "    </tr>\n",
       "    <tr>\n",
       "      <th>45</th>\n",
       "      <td>3 1 5 7 3</td>\n",
       "      <td>Local Guide</td>\n",
       "      <td>762</td>\n",
       "      <td>First time boxing Day purchase. No lineup. Had...</td>\n",
       "      <td>3</td>\n",
       "      <td>2022</td>\n",
       "    </tr>\n",
       "    <tr>\n",
       "      <th>187</th>\n",
       "      <td>john ozevin</td>\n",
       "      <td>Local Guide</td>\n",
       "      <td>570</td>\n",
       "      <td>Nuce coffe</td>\n",
       "      <td>5</td>\n",
       "      <td>2020</td>\n",
       "    </tr>\n",
       "  </tbody>\n",
       "</table>\n",
       "</div>"
      ],
      "text/plain": [
       "     Reviewer Name Reviewer Title  Total Reviews Given  \\\n",
       "293   Alex Passini    Local Guide                 2441   \n",
       "311   Armando yaya    Local Guide                 1090   \n",
       "313  Ross Ferguson    Local Guide                  873   \n",
       "45       3 1 5 7 3    Local Guide                  762   \n",
       "187    john ozevin    Local Guide                  570   \n",
       "\n",
       "                                                Review  Stars Given  \\\n",
       "293  Very friendly staff and a great selection of c...            5   \n",
       "311                                    love the coffee            5   \n",
       "313                  It makes me feel like a princess.            4   \n",
       "45   First time boxing Day purchase. No lineup. Had...            3   \n",
       "187                                         Nuce coffe            5   \n",
       "\n",
       "     Year of Review  \n",
       "293            2019  \n",
       "311            2019  \n",
       "313            2019  \n",
       "45             2022  \n",
       "187            2020  "
      ]
     },
     "execution_count": 142,
     "metadata": {},
     "output_type": "execute_result"
    }
   ],
   "source": [
    "get_topReviewers_with_most_least_reviewsGiven(\n",
    "    df=df[df['Reviewer Title'] == \"Local Guide\"],\n",
    "    ascending=False, \n",
    "    numReviewers=5\n",
    ")"
   ]
  },
  {
   "cell_type": "markdown",
   "id": "d22caf51",
   "metadata": {},
   "source": [
    "**_Reviewers that gave less than 3 star rating_**"
   ]
  },
  {
   "cell_type": "code",
   "execution_count": 144,
   "id": "8de25593",
   "metadata": {},
   "outputs": [
    {
     "data": {
      "text/html": [
       "<div>\n",
       "<style scoped>\n",
       "    .dataframe tbody tr th:only-of-type {\n",
       "        vertical-align: middle;\n",
       "    }\n",
       "\n",
       "    .dataframe tbody tr th {\n",
       "        vertical-align: top;\n",
       "    }\n",
       "\n",
       "    .dataframe thead th {\n",
       "        text-align: right;\n",
       "    }\n",
       "</style>\n",
       "<table border=\"1\" class=\"dataframe\">\n",
       "  <thead>\n",
       "    <tr style=\"text-align: right;\">\n",
       "      <th></th>\n",
       "      <th>Reviewer Name</th>\n",
       "      <th>Reviewer Title</th>\n",
       "      <th>Total Reviews Given</th>\n",
       "      <th>Review</th>\n",
       "      <th>Stars Given</th>\n",
       "      <th>Year of Review</th>\n",
       "    </tr>\n",
       "  </thead>\n",
       "  <tbody>\n",
       "    <tr>\n",
       "      <th>213</th>\n",
       "      <td>harold strempler</td>\n",
       "      <td>No Title</td>\n",
       "      <td>516</td>\n",
       "      <td>Have never darkened the door of this business....</td>\n",
       "      <td>1</td>\n",
       "      <td>2020</td>\n",
       "    </tr>\n",
       "    <tr>\n",
       "      <th>305</th>\n",
       "      <td>Francis Li</td>\n",
       "      <td>Local Guide</td>\n",
       "      <td>396</td>\n",
       "      <td>I have been a long time Nespresso customer and...</td>\n",
       "      <td>1</td>\n",
       "      <td>2019</td>\n",
       "    </tr>\n",
       "    <tr>\n",
       "      <th>276</th>\n",
       "      <td>レーレヴィ</td>\n",
       "      <td>Local Guide</td>\n",
       "      <td>274</td>\n",
       "      <td>CSRs at this location are really rude and lazy...</td>\n",
       "      <td>1</td>\n",
       "      <td>2019</td>\n",
       "    </tr>\n",
       "    <tr>\n",
       "      <th>179</th>\n",
       "      <td>inspiringfoodie</td>\n",
       "      <td>Local Guide</td>\n",
       "      <td>220</td>\n",
       "      <td>Never thought buying coffee would be such a pr...</td>\n",
       "      <td>1</td>\n",
       "      <td>2020</td>\n",
       "    </tr>\n",
       "    <tr>\n",
       "      <th>322</th>\n",
       "      <td>Kevin Lee</td>\n",
       "      <td>Local Guide</td>\n",
       "      <td>151</td>\n",
       "      <td>Like another post said waited 30m. Was interes...</td>\n",
       "      <td>1</td>\n",
       "      <td>2019</td>\n",
       "    </tr>\n",
       "  </tbody>\n",
       "</table>\n",
       "</div>"
      ],
      "text/plain": [
       "        Reviewer Name Reviewer Title  Total Reviews Given  \\\n",
       "213  harold strempler       No Title                  516   \n",
       "305        Francis Li    Local Guide                  396   \n",
       "276             レーレヴィ    Local Guide                  274   \n",
       "179   inspiringfoodie    Local Guide                  220   \n",
       "322         Kevin Lee    Local Guide                  151   \n",
       "\n",
       "                                                Review  Stars Given  \\\n",
       "213  Have never darkened the door of this business....            1   \n",
       "305  I have been a long time Nespresso customer and...            1   \n",
       "276  CSRs at this location are really rude and lazy...            1   \n",
       "179  Never thought buying coffee would be such a pr...            1   \n",
       "322  Like another post said waited 30m. Was interes...            1   \n",
       "\n",
       "     Year of Review  \n",
       "213            2020  \n",
       "305            2019  \n",
       "276            2019  \n",
       "179            2020  \n",
       "322            2019  "
      ]
     },
     "execution_count": 144,
     "metadata": {},
     "output_type": "execute_result"
    }
   ],
   "source": [
    "get_topReviewers_with_most_least_reviewsGiven(\n",
    "    df=df[df['Stars Given'] < 3],\n",
    "    ascending=False, \n",
    "    numReviewers=5\n",
    ")"
   ]
  },
  {
   "cell_type": "markdown",
   "id": "9ef6e319",
   "metadata": {},
   "source": [
    "**_Reviewers that gave less than 3 star rating after 2019_**"
   ]
  },
  {
   "cell_type": "code",
   "execution_count": 147,
   "id": "7aa0eeeb",
   "metadata": {},
   "outputs": [
    {
     "data": {
      "text/html": [
       "<div>\n",
       "<style scoped>\n",
       "    .dataframe tbody tr th:only-of-type {\n",
       "        vertical-align: middle;\n",
       "    }\n",
       "\n",
       "    .dataframe tbody tr th {\n",
       "        vertical-align: top;\n",
       "    }\n",
       "\n",
       "    .dataframe thead th {\n",
       "        text-align: right;\n",
       "    }\n",
       "</style>\n",
       "<table border=\"1\" class=\"dataframe\">\n",
       "  <thead>\n",
       "    <tr style=\"text-align: right;\">\n",
       "      <th></th>\n",
       "      <th>Reviewer Name</th>\n",
       "      <th>Reviewer Title</th>\n",
       "      <th>Total Reviews Given</th>\n",
       "      <th>Review</th>\n",
       "      <th>Stars Given</th>\n",
       "      <th>Year of Review</th>\n",
       "    </tr>\n",
       "  </thead>\n",
       "  <tbody>\n",
       "    <tr>\n",
       "      <th>213</th>\n",
       "      <td>harold strempler</td>\n",
       "      <td>No Title</td>\n",
       "      <td>516</td>\n",
       "      <td>Have never darkened the door of this business....</td>\n",
       "      <td>1</td>\n",
       "      <td>2020</td>\n",
       "    </tr>\n",
       "    <tr>\n",
       "      <th>179</th>\n",
       "      <td>inspiringfoodie</td>\n",
       "      <td>Local Guide</td>\n",
       "      <td>220</td>\n",
       "      <td>Never thought buying coffee would be such a pr...</td>\n",
       "      <td>1</td>\n",
       "      <td>2020</td>\n",
       "    </tr>\n",
       "    <tr>\n",
       "      <th>92</th>\n",
       "      <td>Calvin Ivy</td>\n",
       "      <td>Local Guide</td>\n",
       "      <td>138</td>\n",
       "      <td>This rating is specifically regarding the cust...</td>\n",
       "      <td>1</td>\n",
       "      <td>2021</td>\n",
       "    </tr>\n",
       "    <tr>\n",
       "      <th>39</th>\n",
       "      <td>MrMarcus</td>\n",
       "      <td>Local Guide</td>\n",
       "      <td>117</td>\n",
       "      <td>Coffee is good but not the customer service. G...</td>\n",
       "      <td>1</td>\n",
       "      <td>2022</td>\n",
       "    </tr>\n",
       "    <tr>\n",
       "      <th>108</th>\n",
       "      <td>T D</td>\n",
       "      <td>No Title</td>\n",
       "      <td>114</td>\n",
       "      <td>Was promised a donated Nespresso machine for h...</td>\n",
       "      <td>1</td>\n",
       "      <td>2021</td>\n",
       "    </tr>\n",
       "  </tbody>\n",
       "</table>\n",
       "</div>"
      ],
      "text/plain": [
       "        Reviewer Name Reviewer Title  Total Reviews Given  \\\n",
       "213  harold strempler       No Title                  516   \n",
       "179   inspiringfoodie    Local Guide                  220   \n",
       "92         Calvin Ivy    Local Guide                  138   \n",
       "39           MrMarcus    Local Guide                  117   \n",
       "108               T D       No Title                  114   \n",
       "\n",
       "                                                Review  Stars Given  \\\n",
       "213  Have never darkened the door of this business....            1   \n",
       "179  Never thought buying coffee would be such a pr...            1   \n",
       "92   This rating is specifically regarding the cust...            1   \n",
       "39   Coffee is good but not the customer service. G...            1   \n",
       "108  Was promised a donated Nespresso machine for h...            1   \n",
       "\n",
       "     Year of Review  \n",
       "213            2020  \n",
       "179            2020  \n",
       "92             2021  \n",
       "39             2022  \n",
       "108            2021  "
      ]
     },
     "execution_count": 147,
     "metadata": {},
     "output_type": "execute_result"
    }
   ],
   "source": [
    "get_topReviewers_with_most_least_reviewsGiven(\n",
    "    df=df[(df['Stars Given'] < 3) & (df['Year of Review'] > 2019)],\n",
    "    ascending=False, \n",
    "    numReviewers=5\n",
    ")"
   ]
  }
 ],
 "metadata": {
  "kernelspec": {
   "display_name": "Python 3 (ipykernel)",
   "language": "python",
   "name": "python3"
  },
  "language_info": {
   "codemirror_mode": {
    "name": "ipython",
    "version": 3
   },
   "file_extension": ".py",
   "mimetype": "text/x-python",
   "name": "python",
   "nbconvert_exporter": "python",
   "pygments_lexer": "ipython3",
   "version": "3.9.13"
  }
 },
 "nbformat": 4,
 "nbformat_minor": 5
}
