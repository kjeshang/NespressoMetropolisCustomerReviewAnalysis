{
 "cells": [
  {
   "attachments": {},
   "cell_type": "markdown",
   "metadata": {},
   "source": [
    "# Setup"
   ]
  },
  {
   "cell_type": "code",
   "execution_count": null,
   "metadata": {},
   "outputs": [],
   "source": [
    "# Import necessary packages\n",
    "from selenium import webdriver\n",
    "import pandas as pd\n",
    "import time\n",
    "from datetime import datetime\n",
    "\n",
    "# Google review url(s)\n",
    "url = \"https://www.google.com/maps/place/Nespresso/@49.2258269,-123.0014231,17z/data=!4m13!1m7!3m6!1s0x5486765957fb6f03:0x6b717a7e2475f0e8!2sNespresso!8m2!3d49.2258269!4d-122.9992344!10e1!3m4!1s0x5486765957fb6f03:0x6b717a7e2475f0e8!8m2!3d49.2258269!4d-122.9992344\";\n",
    "\n",
    "url_review = \"https://www.google.com/maps/place/Nespresso/@49.2258269,-123.0014231,17z/data=!3m1!5s0x54867659512e6deb:0x8a75309114df0b12!4m15!1m7!3m6!1s0x5486765957fb6f03:0x6b717a7e2475f0e8!2sNespresso!8m2!3d49.2258269!4d-122.9992344!10e1!3m6!1s0x5486765957fb6f03:0x6b717a7e2475f0e8!8m2!3d49.2258269!4d-122.9992344!9m1!1b1\";"
   ]
  },
  {
   "attachments": {},
   "cell_type": "markdown",
   "metadata": {},
   "source": [
    "# Run Web Scraper"
   ]
  },
  {
   "cell_type": "code",
   "execution_count": null,
   "metadata": {},
   "outputs": [],
   "source": [
    "# Instantiate web driver\n",
    "driver = webdriver.Chrome(\"chromedriver\");\n",
    "driver.set_window_size(1024, 600);\n",
    "driver.maximize_window();"
   ]
  },
  {
   "cell_type": "code",
   "execution_count": null,
   "metadata": {},
   "outputs": [],
   "source": [
    "# Go to Google Reviews URL \n",
    "driver.get(url);\n",
    "time.sleep(3);"
   ]
  },
  {
   "cell_type": "code",
   "execution_count": null,
   "metadata": {},
   "outputs": [],
   "source": [
    "# Get the total number of Google reviews and overall Google review rating\n",
    "def get_generalMetrics(xpath):\n",
    "    driver.find_element(\"xpath\", xpath).location_once_scrolled_into_view;\n",
    "    time.sleep(1);\n",
    "    metrics = driver.find_element(\"xpath\", xpath).text.split(\"\\n\");\n",
    "    data = [[metrics[0], metrics[1].split(\" \")[0]]];\n",
    "    df_generalMetrics = pd.DataFrame(data, columns=['Overall Rating','Total Number of Reviews']);\n",
    "    return df_generalMetrics;\n",
    "\n",
    "get_generalMetrics('//*[@id=\"QA0Szd\"]/div/div/div[1]/div[2]/div/div[1]/div/div/div[32]/div/div[2]')"
   ]
  },
  {
   "cell_type": "code",
   "execution_count": null,
   "metadata": {},
   "outputs": [],
   "source": [
    "# Distribution of stars given\n",
    "def get_reviewStarDistribution(parent_xpath):\n",
    "    # driver.find_element(\"xpath\", parent_xpath).location_once_scrolled_into_view;\n",
    "    data = [];\n",
    "    for i in range(1,6):\n",
    "        label = driver.find_element(\"xpath\", parent_xpath+'tr['+str(i)+']').get_attribute(\"aria-label\").split(\", \");\n",
    "        time.sleep(1);\n",
    "        data.append([label[0].split(\" \")[0], label[1].split(\" \")[0]]);\n",
    "    df_reviewStar = pd.DataFrame(data, columns=['Stars Given','Number of Reviews']);\n",
    "    return df_reviewStar;\n",
    "\n",
    "get_reviewStarDistribution('//*[@id=\"QA0Szd\"]/div/div/div[1]/div[2]/div/div[1]/div/div/div[32]/div/div[1]/table/tbody/')"
   ]
  },
  {
   "cell_type": "code",
   "execution_count": null,
   "metadata": {},
   "outputs": [],
   "source": [
    "# Access full list of Google reviews\n",
    "driver.get(url_review);\n",
    "time.sleep(3);"
   ]
  },
  {
   "cell_type": "code",
   "execution_count": null,
   "metadata": {},
   "outputs": [],
   "source": [
    "driver.execute_script(\"window.scrollTo(0,document.body.scrollHeight)\")"
   ]
  },
  {
   "attachments": {},
   "cell_type": "markdown",
   "metadata": {},
   "source": [
    "# Shutdown Web Driver"
   ]
  },
  {
   "cell_type": "code",
   "execution_count": null,
   "metadata": {},
   "outputs": [],
   "source": [
    "driver.close()"
   ]
  }
 ],
 "metadata": {
  "kernelspec": {
   "display_name": "Python 3",
   "language": "python",
   "name": "python3"
  },
  "language_info": {
   "codemirror_mode": {
    "name": "ipython",
    "version": 3
   },
   "file_extension": ".py",
   "mimetype": "text/x-python",
   "name": "python",
   "nbconvert_exporter": "python",
   "pygments_lexer": "ipython3",
   "version": "3.10.1"
  },
  "orig_nbformat": 4,
  "vscode": {
   "interpreter": {
    "hash": "07fcc30a38d1ecd00416a20ffc3bb9ba1ff350e42774c526eac392e139b99617"
   }
  }
 },
 "nbformat": 4,
 "nbformat_minor": 2
}
