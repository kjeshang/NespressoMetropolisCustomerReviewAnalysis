{
 "cells": [
  {
   "attachments": {},
   "cell_type": "markdown",
   "metadata": {},
   "source": [
    "# Setup"
   ]
  },
  {
   "cell_type": "code",
   "execution_count": 67,
   "metadata": {},
   "outputs": [],
   "source": [
    "# Import necessary packages\n",
    "from selenium import webdriver\n",
    "from selenium.webdriver.common.by import By\n",
    "import pandas as pd\n",
    "import time\n",
    "from datetime import datetime\n",
    "import math\n",
    "\n",
    "# Google review url(s)\n",
    "url = \"https://www.google.com/maps/place/Nespresso/@49.2258269,-123.0014231,17z/data=!4m13!1m7!3m6!1s0x5486765957fb6f03:0x6b717a7e2475f0e8!2sNespresso!8m2!3d49.2258269!4d-122.9992344!10e1!3m4!1s0x5486765957fb6f03:0x6b717a7e2475f0e8!8m2!3d49.2258269!4d-122.9992344\";\n",
    "\n",
    "url_review = \"https://www.google.com/maps/place/Nespresso/@49.2258269,-123.0014231,17z/data=!3m1!5s0x54867659512e6deb:0x8a75309114df0b12!4m15!1m7!3m6!1s0x5486765957fb6f03:0x6b717a7e2475f0e8!2sNespresso!8m2!3d49.2258269!4d-122.9992344!10e1!3m6!1s0x5486765957fb6f03:0x6b717a7e2475f0e8!8m2!3d49.2258269!4d-122.9992344!9m1!1b1\";"
   ]
  },
  {
   "attachments": {},
   "cell_type": "markdown",
   "metadata": {},
   "source": [
    "# Run Web Scraper"
   ]
  },
  {
   "cell_type": "code",
   "execution_count": 58,
   "metadata": {},
   "outputs": [],
   "source": [
    "# Instantiate web driver\n",
    "driver = webdriver.Chrome(\"chromedriver\");\n",
    "driver.set_window_size(1024, 600);\n",
    "driver.maximize_window();\n",
    "time.sleep(5);\n",
    "\n",
    "# Go to Google Reviews URL \n",
    "driver.get(url);\n",
    "time.sleep(3);"
   ]
  },
  {
   "cell_type": "code",
   "execution_count": 59,
   "metadata": {},
   "outputs": [
    {
     "data": {
      "text/html": [
       "<div>\n",
       "<style scoped>\n",
       "    .dataframe tbody tr th:only-of-type {\n",
       "        vertical-align: middle;\n",
       "    }\n",
       "\n",
       "    .dataframe tbody tr th {\n",
       "        vertical-align: top;\n",
       "    }\n",
       "\n",
       "    .dataframe thead th {\n",
       "        text-align: right;\n",
       "    }\n",
       "</style>\n",
       "<table border=\"1\" class=\"dataframe\">\n",
       "  <thead>\n",
       "    <tr style=\"text-align: right;\">\n",
       "      <th></th>\n",
       "      <th>Overall Rating</th>\n",
       "      <th>Total Number of Reviews</th>\n",
       "    </tr>\n",
       "  </thead>\n",
       "  <tbody>\n",
       "    <tr>\n",
       "      <th>0</th>\n",
       "      <td>3.9</td>\n",
       "      <td>328</td>\n",
       "    </tr>\n",
       "  </tbody>\n",
       "</table>\n",
       "</div>"
      ],
      "text/plain": [
       "  Overall Rating Total Number of Reviews\n",
       "0            3.9                     328"
      ]
     },
     "execution_count": 59,
     "metadata": {},
     "output_type": "execute_result"
    }
   ],
   "source": [
    "# Get the total number of Google reviews and overall Google review rating\n",
    "def get_generalMetrics(xpath):\n",
    "    driver.find_element(\"xpath\", xpath).location_once_scrolled_into_view;\n",
    "    time.sleep(1);\n",
    "    metrics = driver.find_element(\"xpath\", xpath).text.split(\"\\n\");\n",
    "    data = [[metrics[0], metrics[1].split(\" \")[0]]];\n",
    "    df_generalMetrics = pd.DataFrame(data, columns=['Overall Rating','Total Number of Reviews']);\n",
    "    return df_generalMetrics;\n",
    "\n",
    "df_generalMetrics = get_generalMetrics('//*[@id=\"QA0Szd\"]/div/div/div[1]/div[2]/div/div[1]/div/div/div[32]/div/div[2]');\n",
    "df_generalMetrics"
   ]
  },
  {
   "cell_type": "code",
   "execution_count": 60,
   "metadata": {},
   "outputs": [
    {
     "data": {
      "text/html": [
       "<div>\n",
       "<style scoped>\n",
       "    .dataframe tbody tr th:only-of-type {\n",
       "        vertical-align: middle;\n",
       "    }\n",
       "\n",
       "    .dataframe tbody tr th {\n",
       "        vertical-align: top;\n",
       "    }\n",
       "\n",
       "    .dataframe thead th {\n",
       "        text-align: right;\n",
       "    }\n",
       "</style>\n",
       "<table border=\"1\" class=\"dataframe\">\n",
       "  <thead>\n",
       "    <tr style=\"text-align: right;\">\n",
       "      <th></th>\n",
       "      <th>Stars Given</th>\n",
       "      <th>Number of Reviews</th>\n",
       "    </tr>\n",
       "  </thead>\n",
       "  <tbody>\n",
       "    <tr>\n",
       "      <th>0</th>\n",
       "      <td>5</td>\n",
       "      <td>181</td>\n",
       "    </tr>\n",
       "    <tr>\n",
       "      <th>1</th>\n",
       "      <td>4</td>\n",
       "      <td>53</td>\n",
       "    </tr>\n",
       "    <tr>\n",
       "      <th>2</th>\n",
       "      <td>3</td>\n",
       "      <td>21</td>\n",
       "    </tr>\n",
       "    <tr>\n",
       "      <th>3</th>\n",
       "      <td>2</td>\n",
       "      <td>15</td>\n",
       "    </tr>\n",
       "    <tr>\n",
       "      <th>4</th>\n",
       "      <td>1</td>\n",
       "      <td>58</td>\n",
       "    </tr>\n",
       "  </tbody>\n",
       "</table>\n",
       "</div>"
      ],
      "text/plain": [
       "  Stars Given Number of Reviews\n",
       "0           5               181\n",
       "1           4                53\n",
       "2           3                21\n",
       "3           2                15\n",
       "4           1                58"
      ]
     },
     "execution_count": 60,
     "metadata": {},
     "output_type": "execute_result"
    }
   ],
   "source": [
    "# Distribution of stars given\n",
    "def get_reviewStarDistribution(parent_xpath):\n",
    "    # driver.find_element(\"xpath\", parent_xpath).location_once_scrolled_into_view;\n",
    "    data = [];\n",
    "    for i in range(1,6):\n",
    "        label = driver.find_element(\"xpath\", parent_xpath+'tr['+str(i)+']').get_attribute(\"aria-label\").split(\", \");\n",
    "        time.sleep(1);\n",
    "        data.append([label[0].split(\" \")[0], label[1].split(\" \")[0]]);\n",
    "    df_reviewStar = pd.DataFrame(data, columns=['Stars Given','Number of Reviews']);\n",
    "    return df_reviewStar;\n",
    "\n",
    "df_reviewStar = get_reviewStarDistribution('//*[@id=\"QA0Szd\"]/div/div/div[1]/div[2]/div/div[1]/div/div/div[32]/div/div[1]/table/tbody/');\n",
    "df_reviewStar"
   ]
  },
  {
   "cell_type": "code",
   "execution_count": 63,
   "metadata": {},
   "outputs": [],
   "source": [
    "# Access full list of Google reviews\n",
    "driver.get(url_review);\n",
    "time.sleep(3);\n",
    "\n",
    "# Sort reviews by \"Newest\"\n",
    "driver.find_element(\"xpath\", '//*[@id=\"QA0Szd\"]/div/div/div[1]/div[2]/div/div[1]/div/div/div[2]/div[7]/div[2]/button').click();\n",
    "\n",
    "time.sleep(5);\n",
    "\n",
    "driver.find_element(\"xpath\", '//*[@id=\"action-menu\"]/div[2]').click();\n",
    "\n",
    "time.sleep(5);"
   ]
  },
  {
   "cell_type": "code",
   "execution_count": 64,
   "metadata": {},
   "outputs": [
    {
     "name": "stdout",
     "output_type": "stream",
     "text": [
      "Last Height: 604\n",
      "New Height: 9909\n",
      "continue\n",
      "Last Height: 9909\n",
      "New Height: 15042\n",
      "continue\n",
      "Last Height: 15042\n",
      "New Height: 18830\n",
      "continue\n",
      "Last Height: 18830\n",
      "New Height: 23835\n",
      "continue\n",
      "Last Height: 23835\n",
      "New Height: 27275\n",
      "continue\n",
      "Last Height: 27275\n",
      "New Height: 31040\n",
      "continue\n",
      "Last Height: 31040\n",
      "New Height: 33413\n",
      "continue\n",
      "Last Height: 33413\n",
      "New Height: 35778\n",
      "continue\n",
      "Last Height: 35778\n",
      "New Height: 37770\n",
      "continue\n",
      "Last Height: 37770\n",
      "New Height: 40049\n",
      "continue\n",
      "Last Height: 40049\n",
      "New Height: 42561\n",
      "continue\n",
      "Last Height: 42561\n",
      "New Height: 44517\n",
      "continue\n",
      "Last Height: 44517\n",
      "New Height: 46630\n",
      "continue\n",
      "Last Height: 46630\n",
      "New Height: 48290\n",
      "continue\n",
      "Last Height: 48290\n",
      "New Height: 50371\n",
      "continue\n",
      "Last Height: 50371\n",
      "New Height: 52010\n",
      "continue\n",
      "Last Height: 52010\n",
      "New Height: 53879\n",
      "continue\n",
      "Last Height: 53879\n",
      "New Height: 56221\n",
      "continue\n",
      "Last Height: 56221\n",
      "New Height: 58258\n",
      "continue\n",
      "Last Height: 58258\n",
      "New Height: 60583\n",
      "continue\n",
      "Last Height: 60583\n",
      "New Height: 62700\n",
      "continue\n",
      "Last Height: 62700\n",
      "New Height: 65340\n",
      "continue\n",
      "Last Height: 65340\n",
      "New Height: 67606\n",
      "continue\n",
      "Last Height: 67606\n",
      "New Height: 69640\n",
      "continue\n",
      "Last Height: 69640\n",
      "New Height: 71280\n",
      "continue\n",
      "Last Height: 71280\n",
      "New Height: 73481\n",
      "continue\n",
      "Last Height: 73481\n",
      "New Height: 75874\n",
      "continue\n",
      "Last Height: 75874\n",
      "New Height: 78869\n",
      "continue\n",
      "Last Height: 78869\n",
      "New Height: 81094\n",
      "continue\n",
      "Last Height: 81094\n",
      "New Height: 83313\n",
      "continue\n",
      "Last Height: 83313\n",
      "New Height: 85619\n",
      "continue\n",
      "Last Height: 85619\n",
      "New Height: 87433\n",
      "continue\n",
      "Last Height: 87433\n",
      "New Height: 87433\n"
     ]
    }
   ],
   "source": [
    "# Scroll to the bottom of the page to get all reviews\n",
    "def perform_scroll(scrollbar_xpath, y_pixel, number_limit):\n",
    "    # Get scroll height\n",
    "    last_height = driver.execute_script(\"return document.body.scrollHeight\");\n",
    "    time.sleep(5);\n",
    "    number = 0;\n",
    "\n",
    "    while True:\n",
    "        number += 1;\n",
    "\n",
    "        # Scroll down to bottom\n",
    "        ele = driver.find_element(\"xpath\", scrollbar_xpath);\n",
    "        driver.execute_script(f'arguments[0].scrollBy(0, {y_pixel});', ele);\n",
    "\n",
    "        # Wait to load page\n",
    "\n",
    "        time.sleep(5);\n",
    "\n",
    "        # Calculate new scroll height and compare with last scroll height\n",
    "        print(f'Last Height: {last_height}');\n",
    "\n",
    "        ele = driver.find_element(\"xpath\", scrollbar_xpath);\n",
    "        new_height = driver.execute_script(\"return arguments[0].scrollHeight\", ele);\n",
    "\n",
    "        print(f'New Height: {new_height}');\n",
    "\n",
    "        if number == number_limit:\n",
    "            break;\n",
    "\n",
    "        if new_height == last_height:\n",
    "            break;\n",
    "        \n",
    "        print(\"continue\");\n",
    "        last_height = new_height;\n",
    "\n",
    "perform_scroll(\n",
    "    scrollbar_xpath='//*[@id=\"QA0Szd\"]/div/div/div[1]/div[2]/div/div[1]/div/div/div[2]', \n",
    "    y_pixel=50000,\n",
    "    number_limit=50\n",
    ")"
   ]
  },
  {
   "cell_type": "code",
   "execution_count": null,
   "metadata": {},
   "outputs": [],
   "source": [
    "# //*[@id=\"QA0Szd\"]/div/div/div[1]/div[2]/div/div[1]/div/div/div[2]/div[9]/div[1]\n",
    "def collect_reviewData(itemList_xpath):\n",
    "    item_list = driver.find_element(\"xpath\", itemList_xpath);\n",
    "    time.sleep(3);\n",
    "    name_list = [];\n",
    "    stars_list = [];\n",
    "    \n",
    "    return;\n",
    "\n",
    "collect_reviewData('//*[@id=\"QA0Szd\"]/div/div/div[1]/div[2]/div/div[1]/div/div/div[2]/div[9]')"
   ]
  },
  {
   "cell_type": "code",
   "execution_count": 107,
   "metadata": {},
   "outputs": [
    {
     "data": {
      "text/plain": [
       "[<selenium.webdriver.remote.webelement.WebElement (session=\"a3ec96266d88eecf96b98cfa1a306c5b\", element=\"4345194b-4669-485b-9551-59c82b33b4df\")>]"
      ]
     },
     "execution_count": 107,
     "metadata": {},
     "output_type": "execute_result"
    }
   ],
   "source": [
    "driver.find_elements(\"xpath\", '//*[@id=\"QA0Szd\"]/div/div/div[1]/div[2]/div/div[1]/div/div/div[2]/div[9]')"
   ]
  },
  {
   "cell_type": "code",
   "execution_count": 73,
   "metadata": {},
   "outputs": [
    {
     "data": {
      "text/plain": [
       "'LASHLOVE33'"
      ]
     },
     "execution_count": 73,
     "metadata": {},
     "output_type": "execute_result"
    }
   ],
   "source": [
    "# Reviewer name\n",
    "driver.find_element(By.CLASS_NAME, 'd4r55').text"
   ]
  },
  {
   "cell_type": "code",
   "execution_count": 74,
   "metadata": {},
   "outputs": [
    {
     "data": {
      "text/plain": [
       "'3 reviews'"
      ]
     },
     "execution_count": 74,
     "metadata": {},
     "output_type": "execute_result"
    }
   ],
   "source": [
    "# Number of reviews given\n",
    "driver.find_element(By.CLASS_NAME, 'RfnDt').text"
   ]
  },
  {
   "cell_type": "code",
   "execution_count": 75,
   "metadata": {},
   "outputs": [
    {
     "data": {
      "text/plain": [
       "'a week ago'"
      ]
     },
     "execution_count": 75,
     "metadata": {},
     "output_type": "execute_result"
    }
   ],
   "source": [
    "# When the review was given\n",
    "driver.find_element(By.CLASS_NAME, 'rsqaWe').text"
   ]
  },
  {
   "cell_type": "code",
   "execution_count": 72,
   "metadata": {},
   "outputs": [
    {
     "data": {
      "text/plain": [
       "'Hit and miss. Staff are either extremely rude or extremely nice.'"
      ]
     },
     "execution_count": 72,
     "metadata": {},
     "output_type": "execute_result"
    }
   ],
   "source": [
    "# The actual review\n",
    "driver.find_elements(By.CLASS_NAME, 'wiI7pd')[0].text"
   ]
  },
  {
   "cell_type": "code",
   "execution_count": 71,
   "metadata": {},
   "outputs": [
    {
     "data": {
      "text/plain": [
       "'Thank you for taking the time to share your impressions with us. We apologize for the situation. We always aim to offer the best customer experience, and regret learning that you didn’t enjoy your recent visit to our Boutique. Your feedback will be reviewed by our management team to ensure that a consistent quality of service can be offered during subsequent visits. We hope to be able to turn this around the next time you are passing by! ☕'"
      ]
     },
     "execution_count": 71,
     "metadata": {},
     "output_type": "execute_result"
    }
   ],
   "source": [
    "# The response from the owner\n",
    "driver.find_elements(By.CLASS_NAME, 'wiI7pd')[1].text"
   ]
  },
  {
   "attachments": {},
   "cell_type": "markdown",
   "metadata": {},
   "source": [
    "# Shutdown Web Scraper"
   ]
  },
  {
   "cell_type": "code",
   "execution_count": 108,
   "metadata": {},
   "outputs": [],
   "source": [
    "driver.close()"
   ]
  }
 ],
 "metadata": {
  "kernelspec": {
   "display_name": "Python 3",
   "language": "python",
   "name": "python3"
  },
  "language_info": {
   "codemirror_mode": {
    "name": "ipython",
    "version": 3
   },
   "file_extension": ".py",
   "mimetype": "text/x-python",
   "name": "python",
   "nbconvert_exporter": "python",
   "pygments_lexer": "ipython3",
   "version": "3.10.1"
  },
  "orig_nbformat": 4,
  "vscode": {
   "interpreter": {
    "hash": "07fcc30a38d1ecd00416a20ffc3bb9ba1ff350e42774c526eac392e139b99617"
   }
  }
 },
 "nbformat": 4,
 "nbformat_minor": 2
}
